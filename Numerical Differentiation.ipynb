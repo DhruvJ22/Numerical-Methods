{
 "cells": [
  {
   "cell_type": "markdown",
   "metadata": {},
   "source": [
    "# Numerical Differentiation\n",
    "_By Dhruv Jain_\n",
    "\n",
    "### **Objective: Implementaion of various numerical differentiation schemes**"
   ]
  },
  {
   "cell_type": "code",
   "execution_count": 1,
   "metadata": {},
   "outputs": [],
   "source": [
    "# Key libraries: Numpy(for mathematical procedures) and matplotlib(to create plots)\n",
    "import numpy as np\n",
    "import matplotlib.pyplot as plt \n",
    "import copy"
   ]
  },
  {
   "cell_type": "markdown",
   "metadata": {},
   "source": [
    "## Forward Differentiation"
   ]
  },
  {
   "cell_type": "code",
   "execution_count": 2,
   "metadata": {},
   "outputs": [],
   "source": [
    "def for_diff(func, x, h, approx_order=1):\n",
    "    \"\"\"Dhruv Jain, 1 Dec 2021\n",
    "    Obj: Compute first and second order Forward Differentitation approximation of f'(x)\n",
    "    Args: \n",
    "        func: function, f(x) whose f'(x) needs to be computed\n",
    "        x: float, value at which to approximate f'(x)\n",
    "        h: float, perturbation\n",
    "        approx_order: int, optional, DEFAULT = 1\n",
    "            1: First order approximation of f'(x)\n",
    "            2: Second order approximation of f'(x)\n",
    "    Output:\n",
    "        First or second approximation of f'(x)\n",
    "    \"\"\"\n",
    "    \n",
    "    if h == 0 or h > 1e-4:\n",
    "        print('Recheck h')\n",
    "    \n",
    "    f0 = func(x)\n",
    "    f1 = func(x+h)\n",
    "    \n",
    "    # First order approximation of f'(x)\n",
    "    if approx_order == 1:\n",
    "        df = (f1-f0)/h\n",
    "\n",
    "    # Second order approximation of f'(x)\n",
    "    elif approx_order == 2:\n",
    "        f2 = func(x+2*h)\n",
    "        df = (-3*f0 + 4*f1 - f2)/(2*h)\n",
    "    else: \n",
    "        print('approx_order should be 1 or 2')\n",
    "        return 0\n",
    "    \n",
    "    return df"
   ]
  },
  {
   "cell_type": "markdown",
   "metadata": {},
   "source": [
    "## Central Differentiation"
   ]
  },
  {
   "cell_type": "code",
   "execution_count": 3,
   "metadata": {},
   "outputs": [],
   "source": [
    "def cen_diff(func, x, h, approx_order=2):\n",
    "    \"\"\"Dhruv Jain, 1 Dec 2021\n",
    "    Obj: Compute second and fourth order CENTRAL Differentitation approximation of f'(x)\n",
    "    Args: \n",
    "        func: function, f(x) whose f'(x) needs to be computed\n",
    "        x: float, value at which to approximate f'(x)\n",
    "        h: float, perturbation\n",
    "        approx_order: int, optional, DEFAULT = 2\n",
    "            2: Second order approximation of f'(x)\n",
    "            4: Fourth order approximation of f'(x)\n",
    "    Output:\n",
    "        Second or Fourth approximation of f'(x)\n",
    "    \"\"\"\n",
    "    \n",
    "    if h == 0 or h > 1e-4:\n",
    "        print('Recheck h')\n",
    "    \n",
    "    f_n1 = func(x-h)\n",
    "    f1 = func(x+h)\n",
    "    \n",
    "    # Second order approximation of f'(x)\n",
    "    if approx_order == 2:\n",
    "        df = (f1-f_n1)/(2*h)\n",
    "\n",
    "    # Fourth order approximation of f'(x)\n",
    "    elif approx_order == 4:\n",
    "        f_n2 = func(x-2*h) \n",
    "        f2 = func(x+2*h)\n",
    "        df = (-f2 + 8*f1 - 8*f_n1 + f_n2)/(12*h)\n",
    "    else: \n",
    "        print('approx_order should be 1 or 2')\n",
    "        return 0\n",
    "    \n",
    "    return df"
   ]
  },
  {
   "cell_type": "markdown",
   "metadata": {},
   "source": [
    "## Complex Step Differentiation"
   ]
  },
  {
   "cell_type": "code",
   "execution_count": 4,
   "metadata": {},
   "outputs": [],
   "source": [
    "def complex_diff(func, x, h):\n",
    "    \"\"\"Dhruv Jain, 1 Dec 2021\n",
    "    Obj: Compute second order COMPLEX STEP DIFFERENTIATION Differentitation approximation of f'(x)\n",
    "    This method is useful as it avoids cancellation error\n",
    "    Args: \n",
    "        func: function, f(x) whose f'(x) needs to be computed\n",
    "        x: float, value at which to approximate f'(x)\n",
    "        h: float, perturbation\n",
    "    Output:\n",
    "    \"\"\"\n",
    "    \n",
    "    if h == 0 or h > 1e-4:\n",
    "        print('Recheck h')\n",
    "    \n",
    "    df = np.imag(func(x+1j*h))/h\n",
    "    \n",
    "    return df"
   ]
  },
  {
   "cell_type": "markdown",
   "metadata": {},
   "source": [
    "## Example"
   ]
  },
  {
   "cell_type": "code",
   "execution_count": 5,
   "metadata": {},
   "outputs": [],
   "source": [
    "# Example function\n",
    "def func_ex(x):\n",
    "    return x**3 + np.sin(x)**2 - x + 1\n",
    "\n",
    "# Derivative of func_ex\n",
    "def dfunc_ex(x):\n",
    "    return 3*x**2 + 2*np.sin(x)*np.cos(x) - 1"
   ]
  },
  {
   "cell_type": "code",
   "execution_count": 6,
   "metadata": {},
   "outputs": [],
   "source": [
    "# Call the various differentiation schemes\n",
    "x = 3\n",
    "\n",
    "h = np.finfo(float).eps*1000000\n",
    "fd_1o = for_diff(func_ex, x, h, approx_order=1)\n",
    "fd_2o = for_diff(func_ex, x, h, approx_order=2)\n",
    "\n",
    "cd_2o = cen_diff(func_ex, x, h, approx_order=2)\n",
    "cd_4o = cen_diff(func_ex, x, h, approx_order=4)\n",
    "\n",
    "h_com = 1e-8\n",
    "complex_2o= complex_diff(func_ex, x, h_com)"
   ]
  },
  {
   "cell_type": "code",
   "execution_count": 7,
   "metadata": {},
   "outputs": [
    {
     "name": "stdout",
     "output_type": "stream",
     "text": [
      "Analytical Derivative: 25.7205845018010741\n",
      "Difference between the analytical derivative and the other methods:\n",
      "\n",
      "Difference: (First order forward differentiation): -0.0000074981989258\n",
      "Difference: (Second order forward differentiation): -0.0000154981989269\n",
      "Difference: (Second order central differentiation): 0.0000005018010754\n",
      "Difference: (Fourth order central differentiation): 0.0000045018010724\n",
      "Difference: (Second order complex step differentiation): 0.0000000000000000\n"
     ]
    }
   ],
   "source": [
    "print('Analytical Derivative: %0.16f'%dfunc_ex(x))\n",
    "print('Difference between the analytical derivative and the other methods:\\n')\n",
    "print('Difference: (First order forward differentiation): %0.16f'%(dfunc_ex(x)-fd_1o))\n",
    "print('Difference: (Second order forward differentiation): %0.16f'%(dfunc_ex(x)-fd_2o))\n",
    "print('Difference: (Second order central differentiation): %0.16f'%(dfunc_ex(x)-cd_2o))\n",
    "print('Difference: (Fourth order central differentiation): %0.16f'%(dfunc_ex(x)-cd_4o))\n",
    "print('Difference: (Second order complex step differentiation): %0.16f'%(dfunc_ex(x)-complex_2o))"
   ]
  },
  {
   "cell_type": "markdown",
   "metadata": {},
   "source": [
    "Note: h is not tuned, it may be tuned to further decrease the absolute error"
   ]
  },
  {
   "cell_type": "code",
   "execution_count": null,
   "metadata": {},
   "outputs": [],
   "source": []
  }
 ],
 "metadata": {
  "kernelspec": {
   "display_name": "Python 3",
   "language": "python",
   "name": "python3"
  },
  "language_info": {
   "codemirror_mode": {
    "name": "ipython",
    "version": 3
   },
   "file_extension": ".py",
   "mimetype": "text/x-python",
   "name": "python",
   "nbconvert_exporter": "python",
   "pygments_lexer": "ipython3",
   "version": "3.8.10"
  }
 },
 "nbformat": 4,
 "nbformat_minor": 2
}
