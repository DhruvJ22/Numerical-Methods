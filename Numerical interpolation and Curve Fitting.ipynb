{
 "cells": [
  {
   "cell_type": "markdown",
   "metadata": {},
   "source": [
    "# Numerical Interpolation and Curve Fitting\n",
    "_By Dhruv Jain_\n",
    "\n",
    "### **Objective: Use given data points to determine a value of an intermediate point**"
   ]
  },
  {
   "cell_type": "code",
   "execution_count": 5,
   "metadata": {},
   "outputs": [],
   "source": [
    "# Key libraries: Numpy(for mathematical procedures) and matplotlib(to create plots)\n",
    "import numpy as np\n",
    "import matplotlib.pyplot as plt \n",
    "import copy"
   ]
  },
  {
   "cell_type": "markdown",
   "metadata": {},
   "source": [
    "## Lagrange Interpolating Polynomial Function"
   ]
  },
  {
   "cell_type": "code",
   "execution_count": 6,
   "metadata": {},
   "outputs": [],
   "source": [
    "# Lagrange Interpolating Polynomial Function:\n",
    "def lagrange_interp(xi,fi,x_interp):\n",
    "    \"\"\"Dhruv Jain, 18 Oct, 2021\n",
    "    Obj: Use Lagrange Form of the Interpolating Polynomial to find f(x_i) for given x_i using given (x,y) data points  \n",
    "    Args:\n",
    "        xi: (n x 1) vector, x-coordinates of the given data set\n",
    "        fi: (n x 1) vector, y-coordinates of the given data set\n",
    "        x_interp: (n_interp x 1) vector, given x-coordinate points for which we interpolate and finds its y-coordinates\n",
    "    Output:\n",
    "        f_interp: (n_iterp x n) vector, interpolated y-ccordinates of x_interp using Lagrange form of Interpolating Polynomial\n",
    "    \"\"\"\n",
    "    n = len(xi)\n",
    "    coeff = np.zeros(n)\n",
    "    coeff = copy.copy(fi) # coeff contains all the f(xi) terms \n",
    "\n",
    "    # Step 1: Create fi/denominator(Ln,i); independent of the points we want to interploate for\n",
    "    for i in range(n):\n",
    "        for j in range(n):\n",
    "            if i==j:\n",
    "                continue\n",
    "            coeff[i] = coeff[i]/(xi[i]-xi[j])\n",
    "    \n",
    "    # Step 2: Multiply the numerator(Ln,i); dependent on x_interp, thus needs to be called len(x_interp) times\n",
    "    def lag_interp_num_coeff(xval):\n",
    "        \"\"\"Dhruv Jain, 18 Oct, 2021, MSAAE Purdue\n",
    "        Obj: Calculate and multiply the numerators of Ln,i based of x_interp[i] value to get f_interp[i]\n",
    "        Args:\n",
    "            xval: float, value for which the interpolated value is calculated\n",
    "        Output:\n",
    "            sum: float, interpolated y-ccordinates of x_interp using Lagrange form of Interpolating Polynomial\n",
    "        \"\"\"\n",
    "        sum = 0.0;\n",
    "        for i in range(n):\n",
    "            temp_c = coeff[i]\n",
    "            for j in range(n):\n",
    "                if i==j:\n",
    "                    continue\n",
    "                temp_c = temp_c*(xval-xi[j])\n",
    "            sum = sum + temp_c\n",
    "        return sum\n",
    "    \n",
    "    # Initialize and calculate y-coord for each x_interp element\n",
    "    f_interp = np.zeros(len(x_interp))\n",
    "    for i in range(len(x_interp)):\n",
    "        f_interp[i] = lag_interp_num_coeff(x_interp[i])   \n",
    "    \n",
    "    return f_interp"
   ]
  },
  {
   "cell_type": "markdown",
   "metadata": {},
   "source": [
    "## Newton Interpolating Polynomial Function"
   ]
  },
  {
   "cell_type": "code",
   "execution_count": 7,
   "metadata": {},
   "outputs": [],
   "source": [
    "# Newton Interpolating Polynomial Function: \n",
    "def newton_interp(xi,fi,x_interp):\n",
    "    \"\"\"Dhruv Jain, 18 Oct, 2021\n",
    "    Obj: Use Newton Form of the Interpolating Polynomial to find f(x_i) for given x_i using given (x,y) data points  \n",
    "    Args:\n",
    "        xi: (n x 1) vector, x-coordinates of the given data set\n",
    "        fi: (n x 1) vector, y-coordinates of the given data set\n",
    "        x_interp: (n_interp x 1) vector, given x-coordinate points for which we interpolate and finds its y-coordinates\n",
    "    Output:\n",
    "        f_interp: (n_iterp x n) vector, interpolated y-ccordinates of x_interp using Lagrange form of Interpolating Polynomial\n",
    "        coeff: (n-1 x 1) vector, coefficients of Newton form of Interpolating Polynomial: f[x0], f[x0,x1], f[x0,x1,x2].......,f[x0,x1,....,xn]\n",
    "    \"\"\"\n",
    "    n = len(xi)\n",
    "    coeff = np.zeros(n)\n",
    "    coeff[0] = copy.copy(fi[0]) # coeff contains all the f[x0], f[x0,x1]....f[x0,x1,.....,xn] terms \n",
    "    temp = copy.copy(fi)\n",
    "    \n",
    "    # Step 1: Compute f[x0], f[x0,x1] ... f[x0,x1,....xn] coeffecient values; independent of the points we want to interploate for\n",
    "    for i in range(1,n):\n",
    "        for j in range(n-i):\n",
    "            temp[j] = (temp[j+1]-temp[j])/(xi[j+i]-xi[j])\n",
    "        coeff[i] = temp[0]\n",
    "    \n",
    "    # Step 2: Multiply the numerator (x-x0)(x-x1)...(x-xn); dependent on x_interp, thus needs to be called len(x_interp) times\n",
    "    def newton_interp_num_coeff(xval):\n",
    "        \"\"\"Dhruv Jain, 18 Oct, 2021, MSAAE Purdue\n",
    "        Obj: Calculate and multiply (x-x0)(x-x1)...(x-xn) based on x_interp[i] value to get f_interp[i]\n",
    "        Args:\n",
    "            xval: float, value for which the interpolated value is calculated\n",
    "        Output:\n",
    "            sum: (n_iterp x n) vector, interpolated y-ccordinates of x_interp using Lagrange form of Interpolating Polynomial\n",
    "        \"\"\"\n",
    "        sum = coeff[0]\n",
    "        for i in range(1,n):\n",
    "            temp = coeff[i]*(xval-xi[i-1])\n",
    "            for j in range(1,i):\n",
    "                temp = temp*(xval-xi[i-j-1])\n",
    "            sum = sum + temp\n",
    "        return sum\n",
    "    \n",
    "    # Initialize and calculate y-coord for each x_interp element\n",
    "    f_interp = np.zeros(len(x_interp))\n",
    "    for i in range(len(x_interp)):\n",
    "        f_interp[i] = newton_interp_num_coeff(x_interp[i])   \n",
    "    \n",
    "    return f_interp, coeff"
   ]
  },
  {
   "cell_type": "markdown",
   "metadata": {},
   "source": [
    "## Example"
   ]
  },
  {
   "cell_type": "code",
   "execution_count": 16,
   "metadata": {},
   "outputs": [
    {
     "data": {
      "text/plain": [
       "<matplotlib.legend.Legend at 0x7f95d1e222b0>"
      ]
     },
     "execution_count": 16,
     "metadata": {},
     "output_type": "execute_result"
    },
    {
     "data": {
      "image/png": "[encoded data removed]",
      "text/plain": [
       "<Figure size 432x288 with 1 Axes>"
      ]
     },
     "metadata": {
      "needs_background": "light"
     },
     "output_type": "display_data"
    }
   ],
   "source": [
    "# Sample data\n",
    "xdat = np.array([0,1,2,3,4,5])\n",
    "fdat = np.array([1.5,2.5,3,2.5,1.5,1])\n",
    "x_cont_dat = np.linspace(min(xdat),max(xdat),1000)\n",
    "\n",
    "# Calculate interpolating polynomial \n",
    "f_cont_dat_lagrange =lagrange_interp(xdat, fdat, x_cont_dat)\n",
    "f_cont_dat_newton, coeff = newton_interp(xdat, fdat, x_cont_dat)\n",
    "\n",
    "# Plot\n",
    "plt.figure(1)\n",
    "plt.title('Interpolation Result')\n",
    "plt.scatter(xdat,fdat,color = 'black',label='Given data')\n",
    "plt.plot(x_cont_dat,f_cont_dat_lagrange,label='Lagrange Interpolation Polynomial')\n",
    "plt.plot(x_cont_dat,f_cont_dat_newton,label='Newton Interpolation Polynomial')\n",
    "plt.ylabel('F (N)')\n",
    "plt.xlabel('x (m)')\n",
    "plt.grid()\n",
    "plt.legend()\n"
   ]
  },
  {
   "cell_type": "code",
   "execution_count": null,
   "metadata": {},
   "outputs": [],
   "source": []
  }
 ],
 "metadata": {
  "kernelspec": {
   "display_name": "Python 3",
   "language": "python",
   "name": "python3"
  },
  "language_info": {
   "codemirror_mode": {
    "name": "ipython",
    "version": 3
   },
   "file_extension": ".py",
   "mimetype": "text/x-python",
   "name": "python",
   "nbconvert_exporter": "python",
   "pygments_lexer": "ipython3",
   "version": "3.8.10"
  }
 },
 "nbformat": 4,
 "nbformat_minor": 2
}
